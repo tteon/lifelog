{
 "cells": [
  {
   "cell_type": "code",
   "execution_count": 397,
   "metadata": {},
   "outputs": [],
   "source": [
    "import gc\n",
    "import random\n",
    "import datetime\n",
    "import glob\n",
    "import re\n",
    "\n",
    "from collections import defaultdict\n",
    "from tqdm import tqdm\n",
    "\n",
    "import numpy as np\n",
    "import pandas as pd\n",
    "\n",
    "import plotly.graph_objects as go\n",
    "import matplotlib.pyplot as plt\n",
    "\n",
    "from scipy.stats import pearsonr\n",
    "\n",
    "import hashlib\n",
    "import networkx as nx\n",
    "from gensim.models.doc2vec import Doc2Vec, TaggedDocument\n",
    "from sklearn.linear_model import LinearRegression\n",
    "from sklearn.metrics import mean_squared_error\n",
    "\n",
    "def unixtime_to_date(unix_timestamp):\n",
    "    \"\"\"Converts a Unix timestamp to a human-readable date.\"\"\"\n",
    "    return datetime.datetime.fromtimestamp(unix_timestamp).strftime('%Y-%m-%d %H:%M:%S')\n",
    "\n",
    "def extract_number_from_string(string):\n",
    "    \"\"\"\n",
    "    Extracts a number from a string using regular expressions.\n",
    "    Returns the extracted number as a string.\n",
    "    \"\"\"\n",
    "    pattern = r\"/(\\d+)/\\d+_label.csv$\"\n",
    "    match = re.search(pattern, string)\n",
    "    if match:\n",
    "        return match.group(1)\n",
    "    else:\n",
    "        return None\n",
    "    \n",
    "def applyint(df:pd.DataFrame,column:str):\n",
    "    return df[column].apply(lambda x : int(x))"
   ]
  },
  {
   "attachments": {},
   "cell_type": "markdown",
   "metadata": {},
   "source": [
    "# data load and preprocessing"
   ]
  },
  {
   "cell_type": "code",
   "execution_count": 398,
   "metadata": {},
   "outputs": [],
   "source": [
    "survey = pd.read_csv('/home/agens/it/pjt/lifelog/input/user_survey_2020.csv')\n",
    "sleep = pd.read_csv('/home/agens/it/pjt/lifelog/input/user_sleep_2020.csv')\n",
    "info = pd.read_csv('/home/agens/it/pjt/lifelog/input/user_info_2020.csv')"
   ]
  },
  {
   "cell_type": "code",
   "execution_count": 399,
   "metadata": {},
   "outputs": [
    {
     "name": "stderr",
     "output_type": "stream",
     "text": [
      "100%|██████████| 21/21 [00:00<00:00, 397.40it/s]\n"
     ]
    }
   ],
   "source": [
    "userId = 'user01'\n",
    "usersleepdf = sleep[sleep[f'userId'] == f'{userId}'][['userId','date','sleep_score']].set_index('userId').drop_duplicates('date')\n",
    "\n",
    "folderList = glob.glob(f'/home/agens/it/pjt/lifelog/input/{userId}/*')\n",
    "databox = defaultdict(pd.DataFrame)\n",
    "fileList = []\n",
    "fileList.append([glob.glob(folderList[i] + '/*.csv')[0] for i in range(len(folderList))])\n",
    "\n",
    "for i in tqdm(range(len(fileList[0]))):\n",
    "    databox[extract_number_from_string(fileList[0][i])] = pd.read_csv(fileList[0][i])"
   ]
  },
  {
   "cell_type": "code",
   "execution_count": 400,
   "metadata": {},
   "outputs": [],
   "source": [
    "userdf = pd.concat(databox,ignore_index=True)\n",
    "userdf['name'] = f'{userId}'\n",
    "userdf['date'] = userdf['ts'].apply(lambda x : unixtime_to_date(x))\n",
    "userdf = userdf.sort_values('date').reset_index(drop=True)\n",
    "userdf['day'] = userdf['date'].apply(lambda x : x[:10])\n",
    "userdf['time'] = userdf['date'].apply(lambda x : x[10:])"
   ]
  },
  {
   "cell_type": "code",
   "execution_count": 401,
   "metadata": {},
   "outputs": [
    {
     "data": {
      "text/plain": [
       "53727"
      ]
     },
     "execution_count": 401,
     "metadata": {},
     "output_type": "execute_result"
    }
   ],
   "source": [
    "breifColumn = ['day','time','name','action','place','condition','emotionPositive','emotionTension']\n",
    "daybox = defaultdict(pd.DataFrame)\n",
    "for dat in userdf['day'].unique():\n",
    "    daybox[dat] = userdf[userdf['day'] == dat][breifColumn]\n",
    "\n",
    "gc.collect()"
   ]
  },
  {
   "attachments": {},
   "cell_type": "markdown",
   "metadata": {},
   "source": [
    "## analytics result"
   ]
  },
  {
   "attachments": {},
   "cell_type": "markdown",
   "metadata": {},
   "source": [
    "## action only"
   ]
  },
  {
   "cell_type": "code",
   "execution_count": 402,
   "metadata": {},
   "outputs": [
    {
     "data": {
      "text/html": [
       "<div>\n",
       "<style scoped>\n",
       "    .dataframe tbody tr th:only-of-type {\n",
       "        vertical-align: middle;\n",
       "    }\n",
       "\n",
       "    .dataframe tbody tr th {\n",
       "        vertical-align: top;\n",
       "    }\n",
       "\n",
       "    .dataframe thead th {\n",
       "        text-align: right;\n",
       "    }\n",
       "</style>\n",
       "<table border=\"1\" class=\"dataframe\">\n",
       "  <thead>\n",
       "    <tr style=\"text-align: right;\">\n",
       "      <th></th>\n",
       "      <th>date</th>\n",
       "      <th>top1sum</th>\n",
       "      <th>sleep_score</th>\n",
       "    </tr>\n",
       "  </thead>\n",
       "  <tbody>\n",
       "    <tr>\n",
       "      <th>0</th>\n",
       "      <td>2020-08-31</td>\n",
       "      <td>0.308087</td>\n",
       "      <td>83</td>\n",
       "    </tr>\n",
       "    <tr>\n",
       "      <th>1</th>\n",
       "      <td>2020-09-05</td>\n",
       "      <td>0.293696</td>\n",
       "      <td>79</td>\n",
       "    </tr>\n",
       "    <tr>\n",
       "      <th>2</th>\n",
       "      <td>2020-09-07</td>\n",
       "      <td>0.225718</td>\n",
       "      <td>20</td>\n",
       "    </tr>\n",
       "    <tr>\n",
       "      <th>3</th>\n",
       "      <td>2020-09-08</td>\n",
       "      <td>0.249554</td>\n",
       "      <td>83</td>\n",
       "    </tr>\n",
       "    <tr>\n",
       "      <th>4</th>\n",
       "      <td>2020-09-09</td>\n",
       "      <td>1.000000</td>\n",
       "      <td>51</td>\n",
       "    </tr>\n",
       "    <tr>\n",
       "      <th>5</th>\n",
       "      <td>2020-09-12</td>\n",
       "      <td>0.258454</td>\n",
       "      <td>93</td>\n",
       "    </tr>\n",
       "    <tr>\n",
       "      <th>6</th>\n",
       "      <td>2020-09-13</td>\n",
       "      <td>0.273556</td>\n",
       "      <td>71</td>\n",
       "    </tr>\n",
       "    <tr>\n",
       "      <th>7</th>\n",
       "      <td>2020-09-14</td>\n",
       "      <td>0.277686</td>\n",
       "      <td>86</td>\n",
       "    </tr>\n",
       "    <tr>\n",
       "      <th>8</th>\n",
       "      <td>2020-09-15</td>\n",
       "      <td>0.446809</td>\n",
       "      <td>47</td>\n",
       "    </tr>\n",
       "    <tr>\n",
       "      <th>9</th>\n",
       "      <td>2020-09-19</td>\n",
       "      <td>0.272873</td>\n",
       "      <td>50</td>\n",
       "    </tr>\n",
       "    <tr>\n",
       "      <th>10</th>\n",
       "      <td>2020-09-20</td>\n",
       "      <td>0.298867</td>\n",
       "      <td>88</td>\n",
       "    </tr>\n",
       "    <tr>\n",
       "      <th>11</th>\n",
       "      <td>2020-09-21</td>\n",
       "      <td>0.539216</td>\n",
       "      <td>59</td>\n",
       "    </tr>\n",
       "    <tr>\n",
       "      <th>12</th>\n",
       "      <td>2020-09-22</td>\n",
       "      <td>0.400000</td>\n",
       "      <td>54</td>\n",
       "    </tr>\n",
       "    <tr>\n",
       "      <th>13</th>\n",
       "      <td>2020-09-23</td>\n",
       "      <td>0.430970</td>\n",
       "      <td>89</td>\n",
       "    </tr>\n",
       "    <tr>\n",
       "      <th>14</th>\n",
       "      <td>2020-09-24</td>\n",
       "      <td>1.000000</td>\n",
       "      <td>20</td>\n",
       "    </tr>\n",
       "    <tr>\n",
       "      <th>15</th>\n",
       "      <td>2020-09-25</td>\n",
       "      <td>0.309829</td>\n",
       "      <td>68</td>\n",
       "    </tr>\n",
       "    <tr>\n",
       "      <th>16</th>\n",
       "      <td>2020-09-26</td>\n",
       "      <td>0.229242</td>\n",
       "      <td>45</td>\n",
       "    </tr>\n",
       "    <tr>\n",
       "      <th>17</th>\n",
       "      <td>2020-09-27</td>\n",
       "      <td>0.289697</td>\n",
       "      <td>20</td>\n",
       "    </tr>\n",
       "  </tbody>\n",
       "</table>\n",
       "</div>"
      ],
      "text/plain": [
       "          date   top1sum  sleep_score\n",
       "0   2020-08-31  0.308087           83\n",
       "1   2020-09-05  0.293696           79\n",
       "2   2020-09-07  0.225718           20\n",
       "3   2020-09-08  0.249554           83\n",
       "4   2020-09-09  1.000000           51\n",
       "5   2020-09-12  0.258454           93\n",
       "6   2020-09-13  0.273556           71\n",
       "7   2020-09-14  0.277686           86\n",
       "8   2020-09-15  0.446809           47\n",
       "9   2020-09-19  0.272873           50\n",
       "10  2020-09-20  0.298867           88\n",
       "11  2020-09-21  0.539216           59\n",
       "12  2020-09-22  0.400000           54\n",
       "13  2020-09-23  0.430970           89\n",
       "14  2020-09-24  1.000000           20\n",
       "15  2020-09-25  0.309829           68\n",
       "16  2020-09-26  0.229242           45\n",
       "17  2020-09-27  0.289697           20"
      ]
     },
     "metadata": {},
     "output_type": "display_data"
    },
    {
     "data": {
      "text/plain": [
       "PearsonRResult(statistic=-0.3469805987400088, pvalue=0.15833023353696263)"
      ]
     },
     "execution_count": 402,
     "metadata": {},
     "output_type": "execute_result"
    }
   ],
   "source": [
    "# action box build\n",
    "actionbox = defaultdict()\n",
    "topnumber = 1\n",
    "try:\n",
    "    # iter the day\n",
    "    for dat in list(daybox.keys()):\n",
    "        actionbox[dat] = {}\n",
    "        # load the value\n",
    "        for action , value in (daybox[dat]['action'].value_counts() / daybox[dat]['action'].value_counts().sum()).items():\n",
    "            actionbox[dat][action] = value\n",
    "        # top 3 value check\n",
    "        # print(dat , dict(list(actionbox[dat].items())[:3]))\n",
    "        actionbox[dat][f'top{topnumber}sum'] = sum(dict(list(actionbox[dat].items())[:topnumber]).values())\n",
    "        # top_3_items = dict(list(data.items())[:3])\n",
    "except:\n",
    "    pass\n",
    "\n",
    "behaviorstatdf = pd.DataFrame.from_dict(actionbox)\n",
    "\n",
    "hypo1 = pd.merge(behaviorstatdf.T.reset_index()[['index',f'top{topnumber}sum']].rename(columns={'index':'date'}), usersleepdf)\n",
    "hypo1 = hypo1.dropna().drop_duplicates().sort_values('date')\n",
    "display(hypo1)\n",
    "pearsonr(x = hypo1[f'top{topnumber}sum'] , y = hypo1['sleep_score'])"
   ]
  },
  {
   "attachments": {},
   "cell_type": "markdown",
   "metadata": {},
   "source": [
    "## Combined both action , condition , place"
   ]
  },
  {
   "cell_type": "code",
   "execution_count": 403,
   "metadata": {},
   "outputs": [],
   "source": [
    "usercolumn = ['action','place','condition']\n",
    "\n",
    "# action box build\n",
    "actionbox = defaultdict()\n",
    "conditionbox = defaultdict()\n",
    "placebox = defaultdict()\n",
    "topnumber = 3\n",
    "try:\n",
    "    # iter the day\n",
    "    for dat in list(daybox.keys()):\n",
    "        actionbox[dat] = {}\n",
    "        conditionbox[dat] = {}\n",
    "        placebox[dat] = {}\n",
    "        # load the value\n",
    "        for col in usercolumn[:3]:\n",
    "            for action , value in (daybox[dat][col].value_counts() / daybox[dat][col].value_counts().sum()).items():\n",
    "                actionbox[dat][action] = value\n",
    "        # top 3 value check\n",
    "        # print(dat , dict(list(actionbox[dat].items())[:3]))\n",
    "        actionbox[dat][f'top{topnumber}sum'] = sum(dict(list(actionbox[dat].items())[:topnumber]).values())\n",
    "        # top_3_items = dict(list(data.items())[:3])\n",
    "except:\n",
    "    pass\n",
    "\n",
    "behaviorstatdf = pd.DataFrame.from_dict(actionbox).fillna(0)\n"
   ]
  },
  {
   "cell_type": "code",
   "execution_count": 404,
   "metadata": {},
   "outputs": [
    {
     "data": {
      "text/plain": [
       "<Axes: title={'center': 'user01 sleep score'}, xlabel='date'>"
      ]
     },
     "execution_count": 404,
     "metadata": {},
     "output_type": "execute_result"
    },
    {
     "data": {
      "image/png": "[encoded data removed]",
      "text/plain": [
       "<Figure size 640x480 with 1 Axes>"
      ]
     },
     "metadata": {},
     "output_type": "display_data"
    }
   ],
   "source": [
    "# sleep quliaty\n",
    "sleep[sleep['userId'] == 'user01'][['userId','date','sleep_score']].set_index('userId').plot(x='date',y='sleep_score',title=f\"{userdf['name'].unique()[0]} sleep score\")"
   ]
  },
  {
   "attachments": {},
   "cell_type": "markdown",
   "metadata": {},
   "source": [
    "# sankey visualization"
   ]
  },
  {
   "cell_type": "code",
   "execution_count": 405,
   "metadata": {},
   "outputs": [
    {
     "data": {
      "application/vnd.plotly.v1+json": {
       "config": {
        "plotlyServerURL": "https://plot.ly"
       },
       "data": [
        {
         "link": {
          "source": [
           7,
           20,
           8,
           20,
           6,
           20,
           2,
           17,
           9,
           20,
           11,
           20,
           8,
           19,
           11,
           19,
           9,
           19,
           11,
           17
          ],
          "target": [
           20,
           23,
           20,
           23,
           20,
           23,
           17,
           23,
           20,
           23,
           20,
           23,
           19,
           23,
           19,
           23,
           19,
           23,
           17,
           22
          ],
          "value": [
           [
            0.04208171682220125
           ],
           [
            0.4887217567305645
           ],
           [
            0.06981739381865207
           ],
           [
            0.4887217567305645
           ],
           [
            0.06503538054340192
           ],
           [
            0.4887217567305645
           ],
           [
            0.07435156853212846
           ],
           [
            0.2922588578455203
           ],
           [
            0.101378681435303
           ],
           [
            0.4887217567305645
           ],
           [
            0.13389637170700397
           ],
           [
            0.4887217567305645
           ],
           [
            0.018556117958445736
           ],
           [
            0.12989282570912014
           ],
           [
            0.03558707553674524
           ],
           [
            0.12989282570912014
           ],
           [
            0.02694450004924997
           ],
           [
            0.12989282570912014
           ],
           [
            0.0800709199576768
           ],
           [
            0.028596757127741713
           ]
          ]
         },
         "node": {
          "color": [
           "rgba(241, 128, 216, 0.8)",
           "rgba(80, 56, 11, 0.8)",
           "rgba(10, 109, 214, 0.8)",
           "rgba(181, 44, 76, 0.8)",
           "rgba(43, 209, 210, 0.8)",
           "rgba(34, 12, 71, 0.8)",
           "rgba(234, 218, 139, 0.8)",
           "rgba(67, 115, 190, 0.8)",
           "rgba(52, 151, 30, 0.8)",
           "rgba(115, 105, 9, 0.8)",
           "rgba(0, 202, 128, 0.8)",
           "rgba(21, 125, 207, 0.8)",
           "rgba(14, 187, 3, 0.8)",
           "rgba(16, 177, 170, 0.8)",
           "rgba(241, 135, 194, 0.8)",
           "rgba(98, 155, 160, 0.8)",
           "rgba(8, 73, 30, 0.8)",
           "rgba(141, 59, 160, 0.8)",
           "rgba(11, 74, 221, 0.8)",
           "rgba(234, 230, 224, 0.8)",
           "rgba(155, 195, 63, 0.8)",
           "rgba(162, 201, 179, 0.8)",
           "rgba(67, 49, 16, 0.8)",
           "rgba(217, 6, 24, 0.8)"
          ],
          "label": [
           "user01",
           "work",
           "travel",
           "meal",
           "recreation_etc",
           "outdoor_act",
           "household",
           "personal_care",
           "recreation_media",
           "study",
           "socialising",
           "hobby",
           "shop",
           "entertainment",
           "sleep",
           "community_interaction",
           "other_indoor",
           "outdoor",
           "restaurant",
           "workplace",
           "home",
           "WITH_MANY",
           "WITH_ONE",
           "ALONE"
          ],
          "line": {
           "color": "black",
           "width": 0.5
          },
          "pad": 15,
          "thickness": 20
         },
         "type": "sankey"
        }
       ],
       "layout": {
        "font": {
         "size": 25
        },
        "template": {
         "data": {
          "bar": [
           {
            "error_x": {
             "color": "#2a3f5f"
            },
            "error_y": {
             "color": "#2a3f5f"
            },
            "marker": {
             "line": {
              "color": "#E5ECF6",
              "width": 0.5
             },
             "pattern": {
              "fillmode": "overlay",
              "size": 10,
              "solidity": 0.2
             }
            },
            "type": "bar"
           }
          ],
          "barpolar": [
           {
            "marker": {
             "line": {
              "color": "#E5ECF6",
              "width": 0.5
             },
             "pattern": {
              "fillmode": "overlay",
              "size": 10,
              "solidity": 0.2
             }
            },
            "type": "barpolar"
           }
          ],
          "carpet": [
           {
            "aaxis": {
             "endlinecolor": "#2a3f5f",
             "gridcolor": "white",
             "linecolor": "white",
             "minorgridcolor": "white",
             "startlinecolor": "#2a3f5f"
            },
            "baxis": {
             "endlinecolor": "#2a3f5f",
             "gridcolor": "white",
             "linecolor": "white",
             "minorgridcolor": "white",
             "startlinecolor": "#2a3f5f"
            },
            "type": "carpet"
           }
          ],
          "choropleth": [
           {
            "colorbar": {
             "outlinewidth": 0,
             "ticks": ""
            },
            "type": "choropleth"
           }
          ],
          "contour": [
           {
            "colorbar": {
             "outlinewidth": 0,
             "ticks": ""
            },
            "colorscale": [
             [
              0,
              "#0d0887"
             ],
             [
              0.1111111111111111,
              "#46039f"
             ],
             [
              0.2222222222222222,
              "#7201a8"
             ],
             [
              0.3333333333333333,
              "#9c179e"
             ],
             [
              0.4444444444444444,
              "#bd3786"
             ],
             [
              0.5555555555555556,
              "#d8576b"
             ],
             [
              0.6666666666666666,
              "#ed7953"
             ],
             [
              0.7777777777777778,
              "#fb9f3a"
             ],
             [
              0.8888888888888888,
              "#fdca26"
             ],
             [
              1,
              "#f0f921"
             ]
            ],
            "type": "contour"
           }
          ],
          "contourcarpet": [
           {
            "colorbar": {
             "outlinewidth": 0,
             "ticks": ""
            },
            "type": "contourcarpet"
           }
          ],
          "heatmap": [
           {
            "colorbar": {
             "outlinewidth": 0,
             "ticks": ""
            },
            "colorscale": [
             [
              0,
              "#0d0887"
             ],
             [
              0.1111111111111111,
              "#46039f"
             ],
             [
              0.2222222222222222,
              "#7201a8"
             ],
             [
              0.3333333333333333,
              "#9c179e"
             ],
             [
              0.4444444444444444,
              "#bd3786"
             ],
             [
              0.5555555555555556,
              "#d8576b"
             ],
             [
              0.6666666666666666,
              "#ed7953"
             ],
             [
              0.7777777777777778,
              "#fb9f3a"
             ],
             [
              0.8888888888888888,
              "#fdca26"
             ],
             [
              1,
              "#f0f921"
             ]
            ],
            "type": "heatmap"
           }
          ],
          "heatmapgl": [
           {
            "colorbar": {
             "outlinewidth": 0,
             "ticks": ""
            },
            "colorscale": [
             [
              0,
              "#0d0887"
             ],
             [
              0.1111111111111111,
              "#46039f"
             ],
             [
              0.2222222222222222,
              "#7201a8"
             ],
             [
              0.3333333333333333,
              "#9c179e"
             ],
             [
              0.4444444444444444,
              "#bd3786"
             ],
             [
              0.5555555555555556,
              "#d8576b"
             ],
             [
              0.6666666666666666,
              "#ed7953"
             ],
             [
              0.7777777777777778,
              "#fb9f3a"
             ],
             [
              0.8888888888888888,
              "#fdca26"
             ],
             [
              1,
              "#f0f921"
             ]
            ],
            "type": "heatmapgl"
           }
          ],
          "histogram": [
           {
            "marker": {
             "pattern": {
              "fillmode": "overlay",
              "size": 10,
              "solidity": 0.2
             }
            },
            "type": "histogram"
           }
          ],
          "histogram2d": [
           {
            "colorbar": {
             "outlinewidth": 0,
             "ticks": ""
            },
            "colorscale": [
             [
              0,
              "#0d0887"
             ],
             [
              0.1111111111111111,
              "#46039f"
             ],
             [
              0.2222222222222222,
              "#7201a8"
             ],
             [
              0.3333333333333333,
              "#9c179e"
             ],
             [
              0.4444444444444444,
              "#bd3786"
             ],
             [
              0.5555555555555556,
              "#d8576b"
             ],
             [
              0.6666666666666666,
              "#ed7953"
             ],
             [
              0.7777777777777778,
              "#fb9f3a"
             ],
             [
              0.8888888888888888,
              "#fdca26"
             ],
             [
              1,
              "#f0f921"
             ]
            ],
            "type": "histogram2d"
           }
          ],
          "histogram2dcontour": [
           {
            "colorbar": {
             "outlinewidth": 0,
             "ticks": ""
            },
            "colorscale": [
             [
              0,
              "#0d0887"
             ],
             [
              0.1111111111111111,
              "#46039f"
             ],
             [
              0.2222222222222222,
              "#7201a8"
             ],
             [
              0.3333333333333333,
              "#9c179e"
             ],
             [
              0.4444444444444444,
              "#bd3786"
             ],
             [
              0.5555555555555556,
              "#d8576b"
             ],
             [
              0.6666666666666666,
              "#ed7953"
             ],
             [
              0.7777777777777778,
              "#fb9f3a"
             ],
             [
              0.8888888888888888,
              "#fdca26"
             ],
             [
              1,
              "#f0f921"
             ]
            ],
            "type": "histogram2dcontour"
           }
          ],
          "mesh3d": [
           {
            "colorbar": {
             "outlinewidth": 0,
             "ticks": ""
            },
            "type": "mesh3d"
           }
          ],
          "parcoords": [
           {
            "line": {
             "colorbar": {
              "outlinewidth": 0,
              "ticks": ""
             }
            },
            "type": "parcoords"
           }
          ],
          "pie": [
           {
            "automargin": true,
            "type": "pie"
           }
          ],
          "scatter": [
           {
            "fillpattern": {
             "fillmode": "overlay",
             "size": 10,
             "solidity": 0.2
            },
            "type": "scatter"
           }
          ],
          "scatter3d": [
           {
            "line": {
             "colorbar": {
              "outlinewidth": 0,
              "ticks": ""
             }
            },
            "marker": {
             "colorbar": {
              "outlinewidth": 0,
              "ticks": ""
             }
            },
            "type": "scatter3d"
           }
          ],
          "scattercarpet": [
           {
            "marker": {
             "colorbar": {
              "outlinewidth": 0,
              "ticks": ""
             }
            },
            "type": "scattercarpet"
           }
          ],
          "scattergeo": [
           {
            "marker": {
             "colorbar": {
              "outlinewidth": 0,
              "ticks": ""
             }
            },
            "type": "scattergeo"
           }
          ],
          "scattergl": [
           {
            "marker": {
             "colorbar": {
              "outlinewidth": 0,
              "ticks": ""
             }
            },
            "type": "scattergl"
           }
          ],
          "scattermapbox": [
           {
            "marker": {
             "colorbar": {
              "outlinewidth": 0,
              "ticks": ""
             }
            },
            "type": "scattermapbox"
           }
          ],
          "scatterpolar": [
           {
            "marker": {
             "colorbar": {
              "outlinewidth": 0,
              "ticks": ""
             }
            },
            "type": "scatterpolar"
           }
          ],
          "scatterpolargl": [
           {
            "marker": {
             "colorbar": {
              "outlinewidth": 0,
              "ticks": ""
             }
            },
            "type": "scatterpolargl"
           }
          ],
          "scatterternary": [
           {
            "marker": {
             "colorbar": {
              "outlinewidth": 0,
              "ticks": ""
             }
            },
            "type": "scatterternary"
           }
          ],
          "surface": [
           {
            "colorbar": {
             "outlinewidth": 0,
             "ticks": ""
            },
            "colorscale": [
             [
              0,
              "#0d0887"
             ],
             [
              0.1111111111111111,
              "#46039f"
             ],
             [
              0.2222222222222222,
              "#7201a8"
             ],
             [
              0.3333333333333333,
              "#9c179e"
             ],
             [
              0.4444444444444444,
              "#bd3786"
             ],
             [
              0.5555555555555556,
              "#d8576b"
             ],
             [
              0.6666666666666666,
              "#ed7953"
             ],
             [
              0.7777777777777778,
              "#fb9f3a"
             ],
             [
              0.8888888888888888,
              "#fdca26"
             ],
             [
              1,
              "#f0f921"
             ]
            ],
            "type": "surface"
           }
          ],
          "table": [
           {
            "cells": {
             "fill": {
              "color": "#EBF0F8"
             },
             "line": {
              "color": "white"
             }
            },
            "header": {
             "fill": {
              "color": "#C8D4E3"
             },
             "line": {
              "color": "white"
             }
            },
            "type": "table"
           }
          ]
         },
         "layout": {
          "annotationdefaults": {
           "arrowcolor": "#2a3f5f",
           "arrowhead": 0,
           "arrowwidth": 1
          },
          "autotypenumbers": "strict",
          "coloraxis": {
           "colorbar": {
            "outlinewidth": 0,
            "ticks": ""
           }
          },
          "colorscale": {
           "diverging": [
            [
             0,
             "#8e0152"
            ],
            [
             0.1,
             "#c51b7d"
            ],
            [
             0.2,
             "#de77ae"
            ],
            [
             0.3,
             "#f1b6da"
            ],
            [
             0.4,
             "#fde0ef"
            ],
            [
             0.5,
             "#f7f7f7"
            ],
            [
             0.6,
             "#e6f5d0"
            ],
            [
             0.7,
             "#b8e186"
            ],
            [
             0.8,
             "#7fbc41"
            ],
            [
             0.9,
             "#4d9221"
            ],
            [
             1,
             "#276419"
            ]
           ],
           "sequential": [
            [
             0,
             "#0d0887"
            ],
            [
             0.1111111111111111,
             "#46039f"
            ],
            [
             0.2222222222222222,
             "#7201a8"
            ],
            [
             0.3333333333333333,
             "#9c179e"
            ],
            [
             0.4444444444444444,
             "#bd3786"
            ],
            [
             0.5555555555555556,
             "#d8576b"
            ],
            [
             0.6666666666666666,
             "#ed7953"
            ],
            [
             0.7777777777777778,
             "#fb9f3a"
            ],
            [
             0.8888888888888888,
             "#fdca26"
            ],
            [
             1,
             "#f0f921"
            ]
           ],
           "sequentialminus": [
            [
             0,
             "#0d0887"
            ],
            [
             0.1111111111111111,
             "#46039f"
            ],
            [
             0.2222222222222222,
             "#7201a8"
            ],
            [
             0.3333333333333333,
             "#9c179e"
            ],
            [
             0.4444444444444444,
             "#bd3786"
            ],
            [
             0.5555555555555556,
             "#d8576b"
            ],
            [
             0.6666666666666666,
             "#ed7953"
            ],
            [
             0.7777777777777778,
             "#fb9f3a"
            ],
            [
             0.8888888888888888,
             "#fdca26"
            ],
            [
             1,
             "#f0f921"
            ]
           ]
          },
          "colorway": [
           "#636efa",
           "#EF553B",
           "#00cc96",
           "#ab63fa",
           "#FFA15A",
           "#19d3f3",
           "#FF6692",
           "#B6E880",
           "#FF97FF",
           "#FECB52"
          ],
          "font": {
           "color": "#2a3f5f"
          },
          "geo": {
           "bgcolor": "white",
           "lakecolor": "white",
           "landcolor": "#E5ECF6",
           "showlakes": true,
           "showland": true,
           "subunitcolor": "white"
          },
          "hoverlabel": {
           "align": "left"
          },
          "hovermode": "closest",
          "mapbox": {
           "style": "light"
          },
          "paper_bgcolor": "white",
          "plot_bgcolor": "#E5ECF6",
          "polar": {
           "angularaxis": {
            "gridcolor": "white",
            "linecolor": "white",
            "ticks": ""
           },
           "bgcolor": "#E5ECF6",
           "radialaxis": {
            "gridcolor": "white",
            "linecolor": "white",
            "ticks": ""
           }
          },
          "scene": {
           "xaxis": {
            "backgroundcolor": "#E5ECF6",
            "gridcolor": "white",
            "gridwidth": 2,
            "linecolor": "white",
            "showbackground": true,
            "ticks": "",
            "zerolinecolor": "white"
           },
           "yaxis": {
            "backgroundcolor": "#E5ECF6",
            "gridcolor": "white",
            "gridwidth": 2,
            "linecolor": "white",
            "showbackground": true,
            "ticks": "",
            "zerolinecolor": "white"
           },
           "zaxis": {
            "backgroundcolor": "#E5ECF6",
            "gridcolor": "white",
            "gridwidth": 2,
            "linecolor": "white",
            "showbackground": true,
            "ticks": "",
            "zerolinecolor": "white"
           }
          },
          "shapedefaults": {
           "line": {
            "color": "#2a3f5f"
           }
          },
          "ternary": {
           "aaxis": {
            "gridcolor": "white",
            "linecolor": "white",
            "ticks": ""
           },
           "baxis": {
            "gridcolor": "white",
            "linecolor": "white",
            "ticks": ""
           },
           "bgcolor": "#E5ECF6",
           "caxis": {
            "gridcolor": "white",
            "linecolor": "white",
            "ticks": ""
           }
          },
          "title": {
           "x": 0.05
          },
          "xaxis": {
           "automargin": true,
           "gridcolor": "white",
           "linecolor": "white",
           "ticks": "",
           "title": {
            "standoff": 15
           },
           "zerolinecolor": "white",
           "zerolinewidth": 2
          },
          "yaxis": {
           "automargin": true,
           "gridcolor": "white",
           "linecolor": "white",
           "ticks": "",
           "title": {
            "standoff": 15
           },
           "zerolinecolor": "white",
           "zerolinewidth": 2
          }
         }
        },
        "title": {
         "text": "user01 2020-09-08 Sankey Diagram"
        }
       }
      },
      "text/html": [
       "<div>                            <div id=\"51e1eb3a-ce68-4374-a318-0d6c3294b9fd\" class=\"plotly-graph-div\" style=\"height:525px; width:100%;\"></div>            <script type=\"text/javascript\">                require([\"plotly\"], function(Plotly) {                    window.PLOTLYENV=window.PLOTLYENV || {};                                    if (document.getElementById(\"51e1eb3a-ce68-4374-a318-0d6c3294b9fd\")) {                    Plotly.newPlot(                        \"51e1eb3a-ce68-4374-a318-0d6c3294b9fd\",                        [{\"link\":{\"source\":[7,20,8,20,6,20,2,17,9,20,11,20,8,19,11,19,9,19,11,17],\"target\":[20,23,20,23,20,23,17,23,20,23,20,23,19,23,19,23,19,23,17,22],\"value\":[[0.04208171682220125],[0.4887217567305645],[0.06981739381865207],[0.4887217567305645],[0.06503538054340192],[0.4887217567305645],[0.07435156853212846],[0.2922588578455203],[0.101378681435303],[0.4887217567305645],[0.13389637170700397],[0.4887217567305645],[0.018556117958445736],[0.12989282570912014],[0.03558707553674524],[0.12989282570912014],[0.02694450004924997],[0.12989282570912014],[0.0800709199576768],[0.028596757127741713]]},\"node\":{\"color\":[\"rgba(241, 128, 216, 0.8)\",\"rgba(80, 56, 11, 0.8)\",\"rgba(10, 109, 214, 0.8)\",\"rgba(181, 44, 76, 0.8)\",\"rgba(43, 209, 210, 0.8)\",\"rgba(34, 12, 71, 0.8)\",\"rgba(234, 218, 139, 0.8)\",\"rgba(67, 115, 190, 0.8)\",\"rgba(52, 151, 30, 0.8)\",\"rgba(115, 105, 9, 0.8)\",\"rgba(0, 202, 128, 0.8)\",\"rgba(21, 125, 207, 0.8)\",\"rgba(14, 187, 3, 0.8)\",\"rgba(16, 177, 170, 0.8)\",\"rgba(241, 135, 194, 0.8)\",\"rgba(98, 155, 160, 0.8)\",\"rgba(8, 73, 30, 0.8)\",\"rgba(141, 59, 160, 0.8)\",\"rgba(11, 74, 221, 0.8)\",\"rgba(234, 230, 224, 0.8)\",\"rgba(155, 195, 63, 0.8)\",\"rgba(162, 201, 179, 0.8)\",\"rgba(67, 49, 16, 0.8)\",\"rgba(217, 6, 24, 0.8)\"],\"label\":[\"user01\",\"work\",\"travel\",\"meal\",\"recreation_etc\",\"outdoor_act\",\"household\",\"personal_care\",\"recreation_media\",\"study\",\"socialising\",\"hobby\",\"shop\",\"entertainment\",\"sleep\",\"community_interaction\",\"other_indoor\",\"outdoor\",\"restaurant\",\"workplace\",\"home\",\"WITH_MANY\",\"WITH_ONE\",\"ALONE\"],\"line\":{\"color\":\"black\",\"width\":0.5},\"pad\":15,\"thickness\":20},\"type\":\"sankey\"}],                        {\"template\":{\"data\":{\"histogram2dcontour\":[{\"type\":\"histogram2dcontour\",\"colorbar\":{\"outlinewidth\":0,\"ticks\":\"\"},\"colorscale\":[[0.0,\"#0d0887\"],[0.1111111111111111,\"#46039f\"],[0.2222222222222222,\"#7201a8\"],[0.3333333333333333,\"#9c179e\"],[0.4444444444444444,\"#bd3786\"],[0.5555555555555556,\"#d8576b\"],[0.6666666666666666,\"#ed7953\"],[0.7777777777777778,\"#fb9f3a\"],[0.8888888888888888,\"#fdca26\"],[1.0,\"#f0f921\"]]}],\"choropleth\":[{\"type\":\"choropleth\",\"colorbar\":{\"outlinewidth\":0,\"ticks\":\"\"}}],\"histogram2d\":[{\"type\":\"histogram2d\",\"colorbar\":{\"outlinewidth\":0,\"ticks\":\"\"},\"colorscale\":[[0.0,\"#0d0887\"],[0.1111111111111111,\"#46039f\"],[0.2222222222222222,\"#7201a8\"],[0.3333333333333333,\"#9c179e\"],[0.4444444444444444,\"#bd3786\"],[0.5555555555555556,\"#d8576b\"],[0.6666666666666666,\"#ed7953\"],[0.7777777777777778,\"#fb9f3a\"],[0.8888888888888888,\"#fdca26\"],[1.0,\"#f0f921\"]]}],\"heatmap\":[{\"type\":\"heatmap\",\"colorbar\":{\"outlinewidth\":0,\"ticks\":\"\"},\"colorscale\":[[0.0,\"#0d0887\"],[0.1111111111111111,\"#46039f\"],[0.2222222222222222,\"#7201a8\"],[0.3333333333333333,\"#9c179e\"],[0.4444444444444444,\"#bd3786\"],[0.5555555555555556,\"#d8576b\"],[0.6666666666666666,\"#ed7953\"],[0.7777777777777778,\"#fb9f3a\"],[0.8888888888888888,\"#fdca26\"],[1.0,\"#f0f921\"]]}],\"heatmapgl\":[{\"type\":\"heatmapgl\",\"colorbar\":{\"outlinewidth\":0,\"ticks\":\"\"},\"colorscale\":[[0.0,\"#0d0887\"],[0.1111111111111111,\"#46039f\"],[0.2222222222222222,\"#7201a8\"],[0.3333333333333333,\"#9c179e\"],[0.4444444444444444,\"#bd3786\"],[0.5555555555555556,\"#d8576b\"],[0.6666666666666666,\"#ed7953\"],[0.7777777777777778,\"#fb9f3a\"],[0.8888888888888888,\"#fdca26\"],[1.0,\"#f0f921\"]]}],\"contourcarpet\":[{\"type\":\"contourcarpet\",\"colorbar\":{\"outlinewidth\":0,\"ticks\":\"\"}}],\"contour\":[{\"type\":\"contour\",\"colorbar\":{\"outlinewidth\":0,\"ticks\":\"\"},\"colorscale\":[[0.0,\"#0d0887\"],[0.1111111111111111,\"#46039f\"],[0.2222222222222222,\"#7201a8\"],[0.3333333333333333,\"#9c179e\"],[0.4444444444444444,\"#bd3786\"],[0.5555555555555556,\"#d8576b\"],[0.6666666666666666,\"#ed7953\"],[0.7777777777777778,\"#fb9f3a\"],[0.8888888888888888,\"#fdca26\"],[1.0,\"#f0f921\"]]}],\"surface\":[{\"type\":\"surface\",\"colorbar\":{\"outlinewidth\":0,\"ticks\":\"\"},\"colorscale\":[[0.0,\"#0d0887\"],[0.1111111111111111,\"#46039f\"],[0.2222222222222222,\"#7201a8\"],[0.3333333333333333,\"#9c179e\"],[0.4444444444444444,\"#bd3786\"],[0.5555555555555556,\"#d8576b\"],[0.6666666666666666,\"#ed7953\"],[0.7777777777777778,\"#fb9f3a\"],[0.8888888888888888,\"#fdca26\"],[1.0,\"#f0f921\"]]}],\"mesh3d\":[{\"type\":\"mesh3d\",\"colorbar\":{\"outlinewidth\":0,\"ticks\":\"\"}}],\"scatter\":[{\"fillpattern\":{\"fillmode\":\"overlay\",\"size\":10,\"solidity\":0.2},\"type\":\"scatter\"}],\"parcoords\":[{\"type\":\"parcoords\",\"line\":{\"colorbar\":{\"outlinewidth\":0,\"ticks\":\"\"}}}],\"scatterpolargl\":[{\"type\":\"scatterpolargl\",\"marker\":{\"colorbar\":{\"outlinewidth\":0,\"ticks\":\"\"}}}],\"bar\":[{\"error_x\":{\"color\":\"#2a3f5f\"},\"error_y\":{\"color\":\"#2a3f5f\"},\"marker\":{\"line\":{\"color\":\"#E5ECF6\",\"width\":0.5},\"pattern\":{\"fillmode\":\"overlay\",\"size\":10,\"solidity\":0.2}},\"type\":\"bar\"}],\"scattergeo\":[{\"type\":\"scattergeo\",\"marker\":{\"colorbar\":{\"outlinewidth\":0,\"ticks\":\"\"}}}],\"scatterpolar\":[{\"type\":\"scatterpolar\",\"marker\":{\"colorbar\":{\"outlinewidth\":0,\"ticks\":\"\"}}}],\"histogram\":[{\"marker\":{\"pattern\":{\"fillmode\":\"overlay\",\"size\":10,\"solidity\":0.2}},\"type\":\"histogram\"}],\"scattergl\":[{\"type\":\"scattergl\",\"marker\":{\"colorbar\":{\"outlinewidth\":0,\"ticks\":\"\"}}}],\"scatter3d\":[{\"type\":\"scatter3d\",\"line\":{\"colorbar\":{\"outlinewidth\":0,\"ticks\":\"\"}},\"marker\":{\"colorbar\":{\"outlinewidth\":0,\"ticks\":\"\"}}}],\"scattermapbox\":[{\"type\":\"scattermapbox\",\"marker\":{\"colorbar\":{\"outlinewidth\":0,\"ticks\":\"\"}}}],\"scatterternary\":[{\"type\":\"scatterternary\",\"marker\":{\"colorbar\":{\"outlinewidth\":0,\"ticks\":\"\"}}}],\"scattercarpet\":[{\"type\":\"scattercarpet\",\"marker\":{\"colorbar\":{\"outlinewidth\":0,\"ticks\":\"\"}}}],\"carpet\":[{\"aaxis\":{\"endlinecolor\":\"#2a3f5f\",\"gridcolor\":\"white\",\"linecolor\":\"white\",\"minorgridcolor\":\"white\",\"startlinecolor\":\"#2a3f5f\"},\"baxis\":{\"endlinecolor\":\"#2a3f5f\",\"gridcolor\":\"white\",\"linecolor\":\"white\",\"minorgridcolor\":\"white\",\"startlinecolor\":\"#2a3f5f\"},\"type\":\"carpet\"}],\"table\":[{\"cells\":{\"fill\":{\"color\":\"#EBF0F8\"},\"line\":{\"color\":\"white\"}},\"header\":{\"fill\":{\"color\":\"#C8D4E3\"},\"line\":{\"color\":\"white\"}},\"type\":\"table\"}],\"barpolar\":[{\"marker\":{\"line\":{\"color\":\"#E5ECF6\",\"width\":0.5},\"pattern\":{\"fillmode\":\"overlay\",\"size\":10,\"solidity\":0.2}},\"type\":\"barpolar\"}],\"pie\":[{\"automargin\":true,\"type\":\"pie\"}]},\"layout\":{\"autotypenumbers\":\"strict\",\"colorway\":[\"#636efa\",\"#EF553B\",\"#00cc96\",\"#ab63fa\",\"#FFA15A\",\"#19d3f3\",\"#FF6692\",\"#B6E880\",\"#FF97FF\",\"#FECB52\"],\"font\":{\"color\":\"#2a3f5f\"},\"hovermode\":\"closest\",\"hoverlabel\":{\"align\":\"left\"},\"paper_bgcolor\":\"white\",\"plot_bgcolor\":\"#E5ECF6\",\"polar\":{\"bgcolor\":\"#E5ECF6\",\"angularaxis\":{\"gridcolor\":\"white\",\"linecolor\":\"white\",\"ticks\":\"\"},\"radialaxis\":{\"gridcolor\":\"white\",\"linecolor\":\"white\",\"ticks\":\"\"}},\"ternary\":{\"bgcolor\":\"#E5ECF6\",\"aaxis\":{\"gridcolor\":\"white\",\"linecolor\":\"white\",\"ticks\":\"\"},\"baxis\":{\"gridcolor\":\"white\",\"linecolor\":\"white\",\"ticks\":\"\"},\"caxis\":{\"gridcolor\":\"white\",\"linecolor\":\"white\",\"ticks\":\"\"}},\"coloraxis\":{\"colorbar\":{\"outlinewidth\":0,\"ticks\":\"\"}},\"colorscale\":{\"sequential\":[[0.0,\"#0d0887\"],[0.1111111111111111,\"#46039f\"],[0.2222222222222222,\"#7201a8\"],[0.3333333333333333,\"#9c179e\"],[0.4444444444444444,\"#bd3786\"],[0.5555555555555556,\"#d8576b\"],[0.6666666666666666,\"#ed7953\"],[0.7777777777777778,\"#fb9f3a\"],[0.8888888888888888,\"#fdca26\"],[1.0,\"#f0f921\"]],\"sequentialminus\":[[0.0,\"#0d0887\"],[0.1111111111111111,\"#46039f\"],[0.2222222222222222,\"#7201a8\"],[0.3333333333333333,\"#9c179e\"],[0.4444444444444444,\"#bd3786\"],[0.5555555555555556,\"#d8576b\"],[0.6666666666666666,\"#ed7953\"],[0.7777777777777778,\"#fb9f3a\"],[0.8888888888888888,\"#fdca26\"],[1.0,\"#f0f921\"]],\"diverging\":[[0,\"#8e0152\"],[0.1,\"#c51b7d\"],[0.2,\"#de77ae\"],[0.3,\"#f1b6da\"],[0.4,\"#fde0ef\"],[0.5,\"#f7f7f7\"],[0.6,\"#e6f5d0\"],[0.7,\"#b8e186\"],[0.8,\"#7fbc41\"],[0.9,\"#4d9221\"],[1,\"#276419\"]]},\"xaxis\":{\"gridcolor\":\"white\",\"linecolor\":\"white\",\"ticks\":\"\",\"title\":{\"standoff\":15},\"zerolinecolor\":\"white\",\"automargin\":true,\"zerolinewidth\":2},\"yaxis\":{\"gridcolor\":\"white\",\"linecolor\":\"white\",\"ticks\":\"\",\"title\":{\"standoff\":15},\"zerolinecolor\":\"white\",\"automargin\":true,\"zerolinewidth\":2},\"scene\":{\"xaxis\":{\"backgroundcolor\":\"#E5ECF6\",\"gridcolor\":\"white\",\"linecolor\":\"white\",\"showbackground\":true,\"ticks\":\"\",\"zerolinecolor\":\"white\",\"gridwidth\":2},\"yaxis\":{\"backgroundcolor\":\"#E5ECF6\",\"gridcolor\":\"white\",\"linecolor\":\"white\",\"showbackground\":true,\"ticks\":\"\",\"zerolinecolor\":\"white\",\"gridwidth\":2},\"zaxis\":{\"backgroundcolor\":\"#E5ECF6\",\"gridcolor\":\"white\",\"linecolor\":\"white\",\"showbackground\":true,\"ticks\":\"\",\"zerolinecolor\":\"white\",\"gridwidth\":2}},\"shapedefaults\":{\"line\":{\"color\":\"#2a3f5f\"}},\"annotationdefaults\":{\"arrowcolor\":\"#2a3f5f\",\"arrowhead\":0,\"arrowwidth\":1},\"geo\":{\"bgcolor\":\"white\",\"landcolor\":\"#E5ECF6\",\"subunitcolor\":\"white\",\"showland\":true,\"showlakes\":true,\"lakecolor\":\"white\"},\"title\":{\"x\":0.05},\"mapbox\":{\"style\":\"light\"}}},\"title\":{\"text\":\"user01 2020-09-08 Sankey Diagram\"},\"font\":{\"size\":25}},                        {\"responsive\": true}                    ).then(function(){\n",
       "                            \n",
       "var gd = document.getElementById('51e1eb3a-ce68-4374-a318-0d6c3294b9fd');\n",
       "var x = new MutationObserver(function (mutations, observer) {{\n",
       "        var display = window.getComputedStyle(gd).display;\n",
       "        if (!display || display === 'none') {{\n",
       "            console.log([gd, 'removed!']);\n",
       "            Plotly.purge(gd);\n",
       "            observer.disconnect();\n",
       "        }}\n",
       "}});\n",
       "\n",
       "// Listen for the removal of the full notebook cells\n",
       "var notebookContainer = gd.closest('#notebook-container');\n",
       "if (notebookContainer) {{\n",
       "    x.observe(notebookContainer, {childList: true});\n",
       "}}\n",
       "\n",
       "// Listen for the clearing of the current output cell\n",
       "var outputEl = gd.closest('.output');\n",
       "if (outputEl) {{\n",
       "    x.observe(outputEl, {childList: true});\n",
       "}}\n",
       "\n",
       "                        })                };                });            </script>        </div>"
      ]
     },
     "metadata": {},
     "output_type": "display_data"
    }
   ],
   "source": [
    "usercolumn = ['name','action', 'place', 'condition']\n",
    "day = np.random.choice(userdf['day'].unique())\n",
    "allBehavior = np.concatenate([userdf[usercolumn].iloc[:,i].unique() for i in range(len(usercolumn))])\n",
    "mappingDict = {beh : idx for idx , beh in enumerate(allBehavior)}\n",
    "edgeweightMapping = behaviorstatdf[day].to_dict()\n",
    "\n",
    "# user behavior history\n",
    "# display(daybox[day].drop_duplicates(subset=['name','action','place','condition']))\n",
    "\n",
    "behaviorList = []\n",
    "for row in daybox[day].drop_duplicates(subset=['name','action','place','condition']).iterrows():\n",
    "    #print(row[1][2:6].values)\n",
    "    behaviorList.append(row[1][2:6].values)\n",
    "\n",
    "daydf = pd.DataFrame(behaviorList,columns=['name','action','place','condition'])\n",
    "\n",
    "for col in daydf.columns[1:]:\n",
    "    daydf[f'm_{col}'] = daydf[col].apply(lambda x : mappingDict[x])\n",
    "    daydf[f'e_{col}'] = daydf[col].apply(lambda x : edgeweightMapping[x])\n",
    "\n",
    "# for edgeweight\n",
    "daydf['e_actionplace'] , daydf['e_placeconditon'] = daydf['e_action'].values * daydf['e_place'] , daydf['e_place'].values * daydf['e_condition']\n",
    "\n",
    "source_ = []\n",
    "target_ = []\n",
    "value_ = []\n",
    "\n",
    "# for networkx \n",
    "for rows in daydf.iterrows():\n",
    "    source_.append((list(rows[1][['m_action','m_place']].values))[0])\n",
    "    target_.append((list(rows[1][['m_action','m_place']].values))[1])\n",
    "    value_.append((list(rows[1][['e_actionplace']].values)))\n",
    "    source_.append((list(rows[1][['m_place','m_condition']].values))[0])\n",
    "    target_.append((list(rows[1][['m_place','m_condition']].values))[1])\n",
    "    value_.append((list(rows[1][['e_placeconditon']].values)))\n",
    "    \n",
    "\n",
    "assert daydf['e_action'].unique().sum() == 1.0\n",
    "assert daydf['e_condition'].unique().sum() == 1.0\n",
    "assert daydf['e_place'].unique().sum() == 1.0\n",
    "\n",
    "# Define the number of colors to generate\n",
    "num_colors = len(list(mappingDict.keys()))\n",
    "\n",
    "# Generate a set of random colors based on the number of labels\n",
    "colors = [f'rgba({random.randint(0, 255)}, {random.randint(0, 255)}, {random.randint(0, 255)}, 0.8)' for i in range(num_colors)]\n",
    "\n",
    "fig = go.Figure(data=[go.Sankey(\n",
    "    node = dict(\n",
    "      pad = 15,\n",
    "      thickness = 20,\n",
    "      line = dict(color = \"black\", width = 0.5),\n",
    "      label = list(mappingDict.keys()),\n",
    "      color = colors\n",
    "    ),\n",
    "    link = dict(\n",
    "      source = source_, # indices correspond to labels, eg A1, A2, A1, B1, ...\n",
    "      target = target_,\n",
    "      value = value_\n",
    "  ))])\n",
    "\n",
    "fig.update_layout(title_text=f\"{userdf['name'].unique()[0]} {day} Sankey Diagram\", font_size=25)\n",
    "fig.show()"
   ]
  },
  {
   "attachments": {},
   "cell_type": "markdown",
   "metadata": {},
   "source": [
    "# graph visualization"
   ]
  },
  {
   "attachments": {},
   "cell_type": "markdown",
   "metadata": {},
   "source": [
    "## depth mapping"
   ]
  },
  {
   "cell_type": "code",
   "execution_count": 406,
   "metadata": {},
   "outputs": [],
   "source": [
    "depthmappingDict = {}\n",
    "depthmappingDict[0] = {act : 0 for act in userdf['action'].unique()}\n",
    "depthmappingDict[1] = {act : 1 for act in userdf['place'].unique()}\n",
    "depthmappingDict[2] = {act : 2 for act in userdf['condition'].unique()}\n",
    "depthmappgingDict_ = dict(depthmappingDict[0] , **depthmappingDict[1], **depthmappingDict[2])\n",
    "\n",
    "reversedDict = {value : key for key , value in mappingDict.items()}\n",
    "depthmappingDictFinal = dict(zip(list(map(mappingDict.get, list(depthmappgingDict_.keys()))) , list(depthmappgingDict_.values())))"
   ]
  },
  {
   "cell_type": "code",
   "execution_count": 408,
   "metadata": {},
   "outputs": [
    {
     "data": {
      "image/png": "[encoded data removed]",
      "text/plain": [
       "<Figure size 640x480 with 1 Axes>"
      ]
     },
     "metadata": {},
     "output_type": "display_data"
    }
   ],
   "source": [
    "G = nx.Graph()\n",
    "G.add_weighted_edges_from(list(zip(source_,target_, sum(value_, []))))\n",
    "edge_weights = [G[u][v]['weight'] for u, v in G.edges()]\n",
    "depths = dict(zip(list(G.nodes()) , list(map(depthmappingDictFinal.get, list(G.nodes())))))\n",
    "# Define node positions based on depth\n",
    "pos = {}\n",
    "for node, depth in depths.items():\n",
    "    pos[node] = (depth, node)\n",
    "\n",
    "plt.figure()\n",
    "plt.title(f\"{userdf['name'].unique()[0]} {day}\")\n",
    "nx.draw(G, pos=pos, with_labels=True, node_color='lightblue', node_size=500, edge_color='gray',width=edge_weights)\n",
    "#nx.draw(DG, with_labels=True, width=edge_weights)"
   ]
  },
  {
   "attachments": {},
   "cell_type": "markdown",
   "metadata": {},
   "source": [
    "## user node addition visualization version"
   ]
  },
  {
   "cell_type": "code",
   "execution_count": 417,
   "metadata": {},
   "outputs": [
    {
     "data": {
      "image/png": "[encoded data removed]",
      "text/plain": [
       "<Figure size 640x480 with 1 Axes>"
      ]
     },
     "metadata": {},
     "output_type": "display_data"
    }
   ],
   "source": [
    "DG = nx.Graph()\n",
    "DG.add_weighted_edges_from(list(zip(source_,target_, sum(value_, []))))\n",
    "usernodenum = 0\n",
    "DG.add_node(usernodenum)\n",
    "intersec = set(daydf['m_action'].values).intersection(set(list(DG.nodes())))\n",
    "DG.add_weighted_edges_from(list(zip([usernodenum] * len(intersec), list(intersec), [float(0.1)] * len(intersec))))\n",
    "\n",
    "#edge_weights = [DG[u][v]['weight'] for u, v in DG.edges()]\n",
    "# Calculate edge thickness based on edge weights\n",
    "scaling_factor = 10\n",
    "edge_widths = [scaling_factor * DG.edges[u, v]['weight'] for u, v in DG.edges()]\n",
    "# Set a random seed for reproducibility\n",
    "#seed_value = 2023\n",
    "#pos = nx.spring_layout(DG,seed=seed_value)\n",
    "#pos = nx.circular_layout(DG)\n",
    "# Compute the layout using tree layout algorithm\n",
    "#pos = nx.nx_agraph.graphviz_layout(DG, prog='dot')\n",
    "# Compute the layout using circular tree layout algorithm\n",
    "#pos = nx.nx_agraph.graphviz_layout(DG, prog='twopi')\n",
    "\n",
    "nx.draw(DG, with_labels=True, node_color='lightblue', node_size=1000, edge_color='gray',width=edge_widths)\n",
    "plt.title(f\"{userdf['name'].unique()[0]} {day}\")\n",
    "plt.show()"
   ]
  },
  {
   "attachments": {},
   "cell_type": "markdown",
   "metadata": {},
   "source": [
    "## graph build"
   ]
  },
  {
   "attachments": {},
   "cell_type": "markdown",
   "metadata": {},
   "source": [
    "### graph"
   ]
  },
  {
   "attachments": {},
   "cell_type": "markdown",
   "metadata": {},
   "source": [
    "## usernode non-addition"
   ]
  },
  {
   "cell_type": "code",
   "execution_count": null,
   "metadata": {},
   "outputs": [
    {
     "name": "stderr",
     "output_type": "stream",
     "text": [
      "100%|██████████| 21/21 [00:01<00:00, 17.65it/s]\n"
     ]
    }
   ],
   "source": [
    "graphs = defaultdict()\n",
    "\n",
    "for day in tqdm(sorted(userdf['day'].unique())):\n",
    "    graphs[day] = {}\n",
    "    allBehavior = np.concatenate([userdf[usercolumn].iloc[:,i].unique() for i in range(len(usercolumn))])\n",
    "    mappingDict = {beh : idx for idx , beh in enumerate(allBehavior)}\n",
    "    edgeweightMapping = behaviorstatdf[day].to_dict()\n",
    "    edgeweightMapping[f'{userId}'] = 1\n",
    "    # user behavior history\n",
    "    # display(daybox[day].drop_duplicates(subset=['name','action','place','condition']))\n",
    "\n",
    "    behaviorList = []\n",
    "    for row in daybox[day].drop_duplicates(subset=['name','action','place','condition']).iterrows():\n",
    "        #print(row[1][2:6].values)\n",
    "        behaviorList.append(row[1][2:6].values)\n",
    "    #    codes, uniques = pd.factorize(row[1][2:6].values)\n",
    "\n",
    "    daydf = pd.DataFrame(behaviorList,columns=['name','action','place','condition'])\n",
    "\n",
    "    for col in daydf.columns:\n",
    "        daydf[f'm_{col}'] = daydf[col].apply(lambda x : mappingDict[x])\n",
    "        daydf[f'e_{col}'] = daydf[col].apply(lambda x : edgeweightMapping[x])\n",
    "\n",
    "    # for edgeweight\n",
    "    daydf['e_actionplace'] , daydf['e_placeconditon'] = daydf['e_action'].values * daydf['e_place'] , daydf['e_place'].values * daydf['e_condition']\n",
    "\n",
    "    source_ = []\n",
    "    target_ = []\n",
    "    value_ = []\n",
    "\n",
    "    # for networkx \n",
    "    for rows in daydf.iterrows():\n",
    "        source_.append((list(rows[1][['m_name','m_action']].values))[0])\n",
    "        target_.append((list(rows[1][['m_name','m_action']].values))[1])\n",
    "        source_.append((list(rows[1][['m_action','m_place']].values))[0])\n",
    "        target_.append((list(rows[1][['m_action','m_place']].values))[1])\n",
    "        value_.append((list(rows[1][['e_actionplace']].values)))\n",
    "        source_.append((list(rows[1][['m_place','m_condition']].values))[0])\n",
    "        target_.append((list(rows[1][['m_place','m_condition']].values))[1])\n",
    "        value_.append((list(rows[1][['e_placeconditon']].values)))\n",
    "\n",
    "        G = nx.Graph()\n",
    "        G.add_weighted_edges_from(list(zip(source_,target_, sum(value_, []))))\n",
    "        \n",
    "\n",
    "        # node attribute data structure unities\n",
    "        daydf['m_action'] = applyint(df=daydf, column='m_action')\n",
    "        daydf['m_place'] = applyint(df=daydf, column='m_place')\n",
    "        daydf['m_condition'] = applyint(df=daydf, column='m_condition')\n",
    "\n",
    "        left_columns = ['m_action','m_place','m_condition']\n",
    "        right_columns = ['e_action','e_place','e_condition']\n",
    "\n",
    "        node_attrs = defaultdict()\n",
    "\n",
    "        for key , value in dict(zip(left_columns, right_columns)).items():\n",
    "            for cnt in range(daydf.shape[0]):\n",
    "                node_attrs[daydf[key].values[cnt]] = {'feature' : str(daydf[value].values[cnt])}\n",
    "        \n",
    "        # for ego_node\n",
    "        node_attrs[0] = dict()\n",
    "        node_attrs[0]['feature'] = str(1.0)\n",
    "        nx.set_node_attributes(G, node_attrs)\n",
    "\n",
    "        graphs[day] = G"
   ]
  },
  {
   "attachments": {},
   "cell_type": "markdown",
   "metadata": {},
   "source": [
    "## usernode addition"
   ]
  },
  {
   "cell_type": "code",
   "execution_count": null,
   "metadata": {},
   "outputs": [
    {
     "name": "stderr",
     "output_type": "stream",
     "text": [
      "100%|██████████| 21/21 [00:01<00:00, 17.43it/s]\n"
     ]
    }
   ],
   "source": [
    "graphs = defaultdict()\n",
    "\n",
    "for day in tqdm(sorted(userdf['day'].unique())):\n",
    "    graphs[day] = {}\n",
    "    allBehavior = np.concatenate([userdf[usercolumn].iloc[:,i].unique() for i in range(len(usercolumn))])\n",
    "    mappingDict = {beh : idx for idx , beh in enumerate(allBehavior)}\n",
    "    edgeweightMapping = behaviorstatdf[day].to_dict()\n",
    "    edgeweightMapping[f'{userId}'] = 1\n",
    "    # user behavior history\n",
    "    # display(daybox[day].drop_duplicates(subset=['name','action','place','condition']))\n",
    "\n",
    "    behaviorList = []\n",
    "    for row in daybox[day].drop_duplicates(subset=['name','action','place','condition']).iterrows():\n",
    "        #print(row[1][2:6].values)\n",
    "        behaviorList.append(row[1][2:6].values)\n",
    "    #    codes, uniques = pd.factorize(row[1][2:6].values)\n",
    "\n",
    "    daydf = pd.DataFrame(behaviorList,columns=['name','action','place','condition'])\n",
    "\n",
    "    for col in daydf.columns:\n",
    "        daydf[f'm_{col}'] = daydf[col].apply(lambda x : mappingDict[x])\n",
    "        daydf[f'e_{col}'] = daydf[col].apply(lambda x : edgeweightMapping[x])\n",
    "\n",
    "    # for edgeweight\n",
    "    daydf['e_actionplace'] , daydf['e_placeconditon'] = daydf['e_action'].values * daydf['e_place'] , daydf['e_place'].values * daydf['e_condition']\n",
    "\n",
    "    source_ = []\n",
    "    target_ = []\n",
    "    value_ = []\n",
    "\n",
    "    # for networkx \n",
    "    for rows in daydf.iterrows():\n",
    "        source_.append((list(rows[1][['m_name','m_action']].values))[0])\n",
    "        target_.append((list(rows[1][['m_name','m_action']].values))[1])\n",
    "        source_.append((list(rows[1][['m_action','m_place']].values))[0])\n",
    "        target_.append((list(rows[1][['m_action','m_place']].values))[1])\n",
    "        value_.append((list(rows[1][['e_actionplace']].values)))\n",
    "        source_.append((list(rows[1][['m_place','m_condition']].values))[0])\n",
    "        target_.append((list(rows[1][['m_place','m_condition']].values))[1])\n",
    "        value_.append((list(rows[1][['e_placeconditon']].values)))\n",
    "\n",
    "        G = nx.Graph()\n",
    "        G.add_weighted_edges_from(list(zip(source_,target_, sum(value_, []))))\n",
    "        usernodenum = 0\n",
    "        G.add_node(usernodenum)\n",
    "        intersec = set(daydf['m_action'].values).intersection(set(list(DG.nodes())))\n",
    "        G.add_weighted_edges_from(list(zip([usernodenum] * len(intersec), list(intersec), [float(0.1)] * len(intersec))))\n",
    "\n",
    "        # node attribute data structure unities\n",
    "        daydf['m_action'] = applyint(df=daydf, column='m_action')\n",
    "        daydf['m_place'] = applyint(df=daydf, column='m_place')\n",
    "        daydf['m_condition'] = applyint(df=daydf, column='m_condition')\n",
    "\n",
    "        left_columns = ['m_action','m_place','m_condition']\n",
    "        right_columns = ['e_action','e_place','e_condition']\n",
    "\n",
    "        node_attrs = defaultdict()\n",
    "\n",
    "        for key , value in dict(zip(left_columns, right_columns)).items():\n",
    "            for cnt in range(daydf.shape[0]):\n",
    "                node_attrs[daydf[key].values[cnt]] = {'feature' : str(daydf[value].values[cnt])}\n",
    "        \n",
    "        # for ego_node\n",
    "        node_attrs[0] = dict()\n",
    "        node_attrs[0]['feature'] = str(1.0)\n",
    "        nx.set_node_attributes(G, node_attrs)\n",
    "\n",
    "        graphs[day] = G"
   ]
  },
  {
   "attachments": {},
   "cell_type": "markdown",
   "metadata": {},
   "source": [
    "## graph embedding"
   ]
  },
  {
   "cell_type": "code",
   "execution_count": null,
   "metadata": {},
   "outputs": [],
   "source": [
    "## vector_size ; number of dimension\n",
    "## workers ; number of workers.(resource)\n",
    "## epochs ; number of training epochs.\n",
    "## min-count ; Minimal feature count to keep.\n",
    "## alpha ; Initial learning rate.\n",
    "## sample ; Down sampling rate for frequent features.\n",
    "\n",
    "# dm ; Defines the training algorithm ; dm =1 -> 'distributed memory'\n",
    "parameters = {'vector_size' : 128,\n",
    "              'workers' : 8,\n",
    "              'epochs' : 1,\n",
    "              'min_count' : 0,\n",
    "              'alpha' : 0.025,\n",
    "              'sample' : 0.0001,\n",
    "              'window' : 5, #fixed\n",
    "               'dm' : 0, #fixed\n",
    "              'rounds': 2\n",
    "            }"
   ]
  },
  {
   "cell_type": "code",
   "execution_count": null,
   "metadata": {},
   "outputs": [],
   "source": [
    "class WeisfeilerLehmanMachine:\n",
    "    '''\n",
    "    Weisfeiler Lehman feature extractor class.\n",
    "    '''\n",
    "    def __init__(self, graph, features, iterations):\n",
    "        '''\n",
    "        Initialization method which also executes feature extraction.\n",
    "        graph(networkx.graph): The Nx graph object.\n",
    "        features(hashvalue): Feature hash table.\n",
    "        iterations(int): Number of WL iterations.\n",
    "        '''\n",
    "        self.graph = graph\n",
    "        self.nodes = self.graph.nodes()\n",
    "        self.features = features\n",
    "        self.extracted_features = [str(v) for k, v in features.items()]\n",
    "        self.iterations = iterations\n",
    "        self.do_recursions()\n",
    "        \n",
    "    def do_a_recursion(self):\n",
    "        '''\n",
    "        The method does a single WL recursion.\n",
    "        :return new_features: The hash table with extracted WL features.\n",
    "        '''\n",
    "        new_features = {}\n",
    "        for node in self.nodes:\n",
    "            # 그래프의 이웃들을 리스트로 가져옴.\n",
    "            nebs = self.graph.neighbors(node)\n",
    "            # 이웃들의 feature 추출\n",
    "            degs = [self.features[neb] for neb in nebs]\n",
    "            # 이웃들의 feature 와 기존 가지고 있던 ego-node의 feature을 결합함\n",
    "            ## ex) ego-node ; '정이태' - 남자 ㆍ 일반인 특성 + 이웃 ; '이지은' 의 여자 ㆍ 가수 특성 \n",
    "            features = [str(self.features[node])] + sorted([str(deg) for deg in degs])\n",
    "            features = '_'.join(features)\n",
    "            # feature 값들을 hashlib 활용하여 emb\n",
    "            ## hsahlib 는 MD5, SHA256 등의 알고리즘으로 문자열을 해싱(hashing)할 때 사용하는 모듈이다.\n",
    "            hash_object = hashlib.md5(features.encode())\n",
    "            hashing = hash_object.hexdigest()\n",
    "            new_features[node] = hashing\n",
    "        self.extracted_features = self.extracted_features + list(new_features.values())\n",
    "        return new_features\n",
    "    \n",
    "    def do_recursions(self):\n",
    "        \"\"\"\n",
    "        The method does a series of WL recursions.\n",
    "        \"\"\"\n",
    "        for _ in range(self.iterations):\n",
    "            self.features = self.do_a_recursion()"
   ]
  },
  {
   "cell_type": "code",
   "execution_count": null,
   "metadata": {},
   "outputs": [],
   "source": [
    "def dataset_preprocess(day, feat :str = 'feature'):\n",
    "    '''\n",
    "    Function to read the graph and features\n",
    "    '''\n",
    "    import networkx as nx\n",
    "    G = graphs[day]\n",
    "    features = defaultdict()\n",
    "    features[0] = 1\n",
    "    if feat == 'feature':\n",
    "        for node in graphs[day].nodes():\n",
    "            features[node] = graphs[day].nodes(data=True)[node][feat]\n",
    "    else:\n",
    "        # original version of graph2vec\n",
    "        features = {k : v for k , v in dict(nx.degree(G)).items()}\n",
    "    \n",
    "    return G, features, day"
   ]
  },
  {
   "cell_type": "code",
   "execution_count": null,
   "metadata": {},
   "outputs": [],
   "source": [
    "# 알고리즘 코드\n",
    "def feature_extractor(day, rounds):\n",
    "    G, featuers, day = dataset_preprocess(day)\n",
    "    machine = WeisfeilerLehmanMachine(G, features, rounds)\n",
    "    doc = TaggedDocument(words=machine.extracted_features, tags=[day])\n",
    "    return doc"
   ]
  },
  {
   "cell_type": "code",
   "execution_count": null,
   "metadata": {},
   "outputs": [
    {
     "name": "stderr",
     "output_type": "stream",
     "text": [
      "100%|██████████| 21/21 [00:00<00:00, 2933.37it/s]\n"
     ]
    }
   ],
   "source": [
    "# rounds 가 증가할수록 feature의 갯수가 늘어나므로, cost가 커짐.\n",
    "document_collections = defaultdict()\n",
    "for i in tqdm(range(len(graphs))):\n",
    "    G , features , day = dataset_preprocess(list(graphs.keys())[i], feat = 'feature')\n",
    "    # print(feature_extractor(list(graphbox.keys())[i], rounds=10))\n",
    "    document_collections[day] = feature_extractor(list(graphs.keys())[i], rounds=parameters['rounds'])"
   ]
  },
  {
   "cell_type": "code",
   "execution_count": null,
   "metadata": {},
   "outputs": [],
   "source": [
    "doc = [v for _ , v in document_collections.items()]\n",
    "\n",
    "# before training, we check the fact which is the matching size of both graph and document\n",
    "assert len(graphs) == len(doc)\n",
    "\n",
    "model= Doc2Vec(doc,\n",
    "               vector_size = parameters['vector_size'],\n",
    "               dm = parameters['dm'],\n",
    "              workers = parameters['workers'],\n",
    "              min_count = parameters['min_count'],\n",
    "              window = parameters['window'],\n",
    "              epochs = parameters['epochs'],\n",
    "              alpha = parameters['alpha'],\n",
    "             )"
   ]
  },
  {
   "cell_type": "code",
   "execution_count": null,
   "metadata": {},
   "outputs": [
    {
     "name": "stderr",
     "output_type": "stream",
     "text": [
      "100%|██████████| 21/21 [00:00<00:00, 42305.66it/s]\n"
     ]
    }
   ],
   "source": [
    "vectors_dict = defaultdict(float)\n",
    "try:\n",
    "    for itr in tqdm(range(0, len(doc))):\n",
    "        vectors_dict[sorted(list(graphs.keys()))[itr]] = model.__getitem__(sorted(list(graphs.keys()))[itr])\n",
    "except:\n",
    "    pass"
   ]
  },
  {
   "attachments": {},
   "cell_type": "markdown",
   "metadata": {},
   "source": [
    "# Evaluation"
   ]
  },
  {
   "attachments": {},
   "cell_type": "markdown",
   "metadata": {},
   "source": [
    "## graph"
   ]
  },
  {
   "cell_type": "code",
   "execution_count": null,
   "metadata": {},
   "outputs": [],
   "source": [
    "embeddf = pd.DataFrame.from_dict(vectors_dict).T.reset_index().rename(columns={'index':'date'})\n",
    "df = pd.merge(embeddf,usersleepdf,how='inner',on='date')\n",
    "train_size = 0.7\n",
    "test_size = 1 - train_size\n",
    "\n",
    "X_train, y_train = df.iloc[:int(len(df['date']) * train_size)].set_index('date').iloc[:,:-1].values , df.iloc[:int(len(df['date']) * train_size)].set_index('date').iloc[:,-1].values\n",
    "X_test, y_test = df.iloc[int(len(df['date']) * train_size):].set_index('date').iloc[:,:-1].values , df.iloc[int(len(df['date']) * train_size):].set_index('date').iloc[:,-1].values"
   ]
  },
  {
   "cell_type": "code",
   "execution_count": null,
   "metadata": {},
   "outputs": [
    {
     "name": "stdout",
     "output_type": "stream",
     "text": [
      "0.1th Mean squared error: 1101.88\n",
      "0.2th Mean squared error: 550.11\n",
      "0.3th Mean squared error: 626.06\n",
      "0.4th Mean squared error: 647.21\n",
      "0.5th Mean squared error: 694.97\n",
      "0.6th Mean squared error: 646.22\n",
      "0.7th Mean squared error: 723.75\n",
      "0.8th Mean squared error: 1004.71\n",
      "0.9th Mean squared error: 905.32\n"
     ]
    }
   ],
   "source": [
    "for i in np.arange(0.1,1.0,0.1):\n",
    "    train_size = i\n",
    "    test_size = 1 - train_size\n",
    "\n",
    "    X_train, y_train = df.iloc[:int(len(df['date']) * train_size)].set_index('date').iloc[:,:-1].values , df.iloc[:int(len(df['date']) * train_size)].set_index('date').iloc[:,-1].values\n",
    "    X_test, y_test = df.iloc[int(len(df['date']) * train_size):].set_index('date').iloc[:,:-1].values , df.iloc[int(len(df['date']) * train_size):].set_index('date').iloc[:,-1].values\n",
    "\n",
    "    # Initialize and train model\n",
    "    model = LinearRegression()\n",
    "    model.fit(X_train, y_train)\n",
    "\n",
    "    # Make predictions on test set\n",
    "    y_pred = model.predict(X_test)\n",
    "\n",
    "    # Calculate evaluation metric\n",
    "    mse = mean_squared_error(y_test, y_pred)\n",
    "    print(f\"{np.round(i,1)}th Mean squared error: {mse:.2f}\")"
   ]
  },
  {
   "attachments": {},
   "cell_type": "markdown",
   "metadata": {},
   "source": [
    "## nongraph "
   ]
  },
  {
   "cell_type": "code",
   "execution_count": null,
   "metadata": {},
   "outputs": [
    {
     "name": "stderr",
     "output_type": "stream",
     "text": [
      "100%|██████████| 21/21 [00:00<00:00, 465.90it/s]\n",
      "100%|██████████| 21/21 [00:00<00:00, 450.86it/s]\n"
     ]
    }
   ],
   "source": [
    "def listtostr(applylist):\n",
    "    return [str(factor) for factor in applylist]\n",
    "\n",
    "behaviorDict = {}\n",
    "\n",
    "# mapping\n",
    "for day in tqdm(list(daybox.keys())):\n",
    "    for col in usercolumn[1:]:\n",
    "        daybox[day][f'm_{col}'] = daybox[day][col].apply(lambda x : mappingDict[x])\n",
    "\n",
    "# behavior extract\n",
    "for day in tqdm(list(daybox.keys())):\n",
    "    behaviorDict[day] = {}\n",
    "    behaviorList = []\n",
    "    for behavior in daybox[day].iloc[:,8:].drop_duplicates(subset=['m_action','m_place','m_condition']).iterrows():\n",
    "        behaviorList.extend(listtostr(behavior[1].values))\n",
    "        behaviorDict[day] = behaviorList"
   ]
  },
  {
   "cell_type": "code",
   "execution_count": null,
   "metadata": {},
   "outputs": [],
   "source": [
    "from gensim.test.utils import common_texts\n",
    "from gensim.models.doc2vec import Doc2Vec, TaggedDocument\n",
    "\n",
    "documents = [TaggedDocument(value, [key]) for key, value in behaviorDict.items()]\n",
    "\n",
    "model = Doc2Vec(documents, \n",
    "                vector_size = parameters['vector_size'],\n",
    "               dm = parameters['dm'],\n",
    "              workers = parameters['workers'],\n",
    "              min_count = parameters['min_count'],\n",
    "              window = parameters['window'],\n",
    "              epochs = parameters['epochs'],\n",
    "              alpha = parameters['alpha'],)"
   ]
  },
  {
   "cell_type": "code",
   "execution_count": null,
   "metadata": {},
   "outputs": [],
   "source": [
    "vectors_dict_nongraph = defaultdict(float)\n",
    "try:\n",
    "    for day in list(daybox.keys()):\n",
    "        vectors_dict_nongraph[day] = model.__getitem__(day)\n",
    "except:\n",
    "    pass"
   ]
  },
  {
   "cell_type": "code",
   "execution_count": null,
   "metadata": {},
   "outputs": [],
   "source": [
    "embeddf = pd.DataFrame.from_dict(vectors_dict_nongraph).T.reset_index().rename(columns={'index':'date'})\n",
    "df = pd.merge(embeddf,usersleepdf,how='inner',on='date')\n",
    "train_size = 0.7\n",
    "test_size = 1 - train_size\n",
    "\n",
    "X_train, y_train = df.iloc[:int(len(df['date']) * train_size)].set_index('date').iloc[:,:-1].values , df.iloc[:int(len(df['date']) * train_size)].set_index('date').iloc[:,-1].values\n",
    "X_test, y_test = df.iloc[int(len(df['date']) * train_size):].set_index('date').iloc[:,:-1].values , df.iloc[int(len(df['date']) * train_size):].set_index('date').iloc[:,-1].values"
   ]
  },
  {
   "cell_type": "code",
   "execution_count": null,
   "metadata": {},
   "outputs": [
    {
     "name": "stdout",
     "output_type": "stream",
     "text": [
      "0.1th Mean squared error: 1101.88\n",
      "0.2th Mean squared error: 547.82\n",
      "0.3th Mean squared error: 583.08\n",
      "0.4th Mean squared error: 653.27\n",
      "0.5th Mean squared error: 691.88\n",
      "0.6th Mean squared error: 642.05\n",
      "0.7th Mean squared error: 809.82\n",
      "0.8th Mean squared error: 1007.70\n",
      "0.9th Mean squared error: 899.37\n"
     ]
    }
   ],
   "source": [
    "for i in np.arange(0.1,1.0,0.1):\n",
    "    train_size = i\n",
    "    test_size = 1 - train_size\n",
    "\n",
    "    X_train, y_train = df.iloc[:int(len(df['date']) * train_size)].set_index('date').iloc[:,:-1].values , df.iloc[:int(len(df['date']) * train_size)].set_index('date').iloc[:,-1].values\n",
    "    X_test, y_test = df.iloc[int(len(df['date']) * train_size):].set_index('date').iloc[:,:-1].values , df.iloc[int(len(df['date']) * train_size):].set_index('date').iloc[:,-1].values\n",
    "\n",
    "    # Initialize and train model\n",
    "    model = LinearRegression()\n",
    "    model.fit(X_train, y_train)\n",
    "\n",
    "    # Make predictions on test set\n",
    "    y_pred = model.predict(X_test)\n",
    "\n",
    "    # Calculate evaluation metric\n",
    "    mse = mean_squared_error(y_test, y_pred)\n",
    "    print(f\"{np.round(i,1)}th Mean squared error: {mse:.2f}\")"
   ]
  },
  {
   "attachments": {},
   "cell_type": "markdown",
   "metadata": {},
   "source": [
    "# steep analysis"
   ]
  },
  {
   "cell_type": "code",
   "execution_count": null,
   "metadata": {},
   "outputs": [],
   "source": [
    "def viz(vector_dictionary, sleepdf:pd.DataFrame=usersleepdf):\n",
    "    df = pd.DataFrame.from_dict(vector_dictionary).T\n",
    "    df['mean'] = [df.iloc[i].mean() for i in range(len(df))]\n",
    "    df = pd.merge(sleepdf, df.reset_index().rename(columns={'index':'date'}),how='inner',on='date')[['date','sleep_score','mean']]\n",
    "\n",
    "    x = df.iloc[:,0]\n",
    "    y1 = df.iloc[:,1]\n",
    "    y2 = df.iloc[:,2]\n",
    "\n",
    "    #y1 sleepscore , y2 mean\n",
    "    # Create a figure and axis\n",
    "    fig, ax1 = plt.subplots()\n",
    "\n",
    "    # Plot y1 on the left y-axis\n",
    "    ax1.plot(x, y1, label='Sleepscore', color='royalblue')\n",
    "    ax1.set_ylabel('Sleepscore', color='black', fontsize=20)\n",
    "    # Create a twin y-axis with shared x-axis\n",
    "    ax2 = ax1.twinx()\n",
    "\n",
    "    # Plot y2 on the right y-axis\n",
    "    ax2.plot(x, y2, label='Embeddingvalue', color='darkorange')\n",
    "    ax2.set_ylabel('Embeddingvalue', color='black', fontsize=20)\n",
    "    \n",
    "    # Rotate x-axis labels by 45 degrees\n",
    "    ax1.set_xticklabels(x, rotation=45)\n",
    "\n",
    "    # Set labels and title\n",
    "    ax1.set_xlabel('Date', fontsize=20)\n",
    "\n",
    "    # Increase the font size of x-axis tick labels\n",
    "    ax1.tick_params(axis='x', labelsize=10)  # Adjust the font size here\n",
    "\n",
    "    # Increase the font size of tick labels for the first y-axis\n",
    "    ax1.tick_params(axis='y', labelsize=14)  # Adjust the font size and color here\n",
    "\n",
    "    # Increase the font size of tick labels for the second y-axis\n",
    "    ax2.tick_params(axis='y', labelsize=14)  # Adjust the font size and color here\n",
    "\n",
    "\n",
    "    # Add a legend\n",
    "    ax1.legend(loc='upper left')\n",
    "    ax2.legend(loc='upper right')\n",
    "    plt.figure(figsize=(20,20))\n",
    "    # Display the plot\n",
    "    plt.show()"
   ]
  },
  {
   "cell_type": "code",
   "execution_count": null,
   "metadata": {},
   "outputs": [
    {
     "name": "stderr",
     "output_type": "stream",
     "text": [
      "/tmp/ipykernel_599538/190261156.py:25: UserWarning:\n",
      "\n",
      "FixedFormatter should only be used together with FixedLocator\n",
      "\n"
     ]
    },
    {
     "data": {
      "image/png": "[encoded data removed]",
      "text/plain": [
       "<Figure size 640x480 with 2 Axes>"
      ]
     },
     "metadata": {},
     "output_type": "display_data"
    },
    {
     "data": {
      "text/plain": [
       "<Figure size 2000x2000 with 0 Axes>"
      ]
     },
     "metadata": {},
     "output_type": "display_data"
    }
   ],
   "source": [
    "viz(vector_dictionary=vectors_dict_nongraph,sleepdf=usersleepdf)"
   ]
  },
  {
   "cell_type": "code",
   "execution_count": null,
   "metadata": {},
   "outputs": [
    {
     "name": "stderr",
     "output_type": "stream",
     "text": [
      "/tmp/ipykernel_599538/190261156.py:25: UserWarning:\n",
      "\n",
      "FixedFormatter should only be used together with FixedLocator\n",
      "\n"
     ]
    },
    {
     "data": {
      "image/png": "[encoded data removed]",
      "text/plain": [
       "<Figure size 640x480 with 2 Axes>"
      ]
     },
     "metadata": {},
     "output_type": "display_data"
    },
    {
     "data": {
      "text/plain": [
       "<Figure size 2000x2000 with 0 Axes>"
      ]
     },
     "metadata": {},
     "output_type": "display_data"
    }
   ],
   "source": [
    "viz(vector_dictionary=vectors_dict,sleepdf=usersleepdf)"
   ]
  },
  {
   "attachments": {},
   "cell_type": "markdown",
   "metadata": {},
   "source": [
    "## correlation between sleepscore and embedding value"
   ]
  },
  {
   "cell_type": "code",
   "execution_count": null,
   "metadata": {},
   "outputs": [],
   "source": [
    "from scipy.stats import pearsonr\n",
    "\n",
    "def correlationvalue(vector_dictionary,sleepdf=usersleepdf):\n",
    "    df = pd.DataFrame.from_dict(vector_dictionary).T\n",
    "    df['mean'] = [df.iloc[i].mean() for i in range(len(df))]\n",
    "    df = pd.merge(sleepdf, df.reset_index().rename(columns={'index':'date'}),how='inner',on='date')[['date','sleep_score','mean']]\n",
    "    print(pearsonr(df['sleep_score'], df['mean']))"
   ]
  },
  {
   "cell_type": "code",
   "execution_count": 418,
   "metadata": {},
   "outputs": [
    {
     "name": "stdout",
     "output_type": "stream",
     "text": [
      "PearsonRResult(statistic=0.04340619907024701, pvalue=0.8642113787413899)\n",
      "PearsonRResult(statistic=0.04287192974614814, pvalue=0.8658683539344065)\n"
     ]
    }
   ],
   "source": [
    "correlationvalue(vectors_dict)\n",
    "correlationvalue(vectors_dict_nongraph)"
   ]
  },
  {
   "cell_type": "code",
   "execution_count": null,
   "metadata": {},
   "outputs": [],
   "source": []
  }
 ],
 "metadata": {
  "kernelspec": {
   "display_name": "it",
   "language": "python",
   "name": "python3"
  },
  "language_info": {
   "codemirror_mode": {
    "name": "ipython",
    "version": 3
   },
   "file_extension": ".py",
   "mimetype": "text/x-python",
   "name": "python",
   "nbconvert_exporter": "python",
   "pygments_lexer": "ipython3",
   "version": "3.8.16"
  },
  "orig_nbformat": 4
 },
 "nbformat": 4,
 "nbformat_minor": 2
}
